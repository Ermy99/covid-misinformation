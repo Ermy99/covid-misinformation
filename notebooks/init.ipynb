{
  "nbformat": 4,
  "nbformat_minor": 0,
  "metadata": {
    "colab": {
      "name": "CS 4641 Group Project",
      "provenance": [],
      "collapsed_sections": [],
      "include_colab_link": true
    },
    "kernelspec": {
      "name": "python3",
      "display_name": "Python 3"
    }
  },
  "cells": [
    {
      "cell_type": "markdown",
      "metadata": {
        "id": "view-in-github",
        "colab_type": "text"
      },
      "source": [
        "<a href=\"https://colab.research.google.com/github/Ermy99/covid-misinformation/blob/master/notebooks/init.ipynb\" target=\"_parent\"><img src=\"https://colab.research.google.com/assets/colab-badge.svg\" alt=\"Open In Colab\"/></a>"
      ]
    },
    {
      "cell_type": "markdown",
      "metadata": {
        "id": "-tE4Z4WLeFfH"
      },
      "source": [
        "# Recognizing Misinformation\n",
        "This is the group project for CS 4641 Machine Learning\n"
      ]
    },
    {
      "cell_type": "code",
      "metadata": {
        "id": "zsiqd47laEOk",
        "outputId": "fd23e42e-12ac-4017-a351-6600e9dee507",
        "colab": {
          "base_uri": "https://localhost:8080/",
          "height": 34
        }
      },
      "source": [
        "# Authenticate Google Drive access\n",
        "from google.colab import drive\n",
        "drive.mount('/content/drive')"
      ],
      "execution_count": null,
      "outputs": [
        {
          "output_type": "stream",
          "text": [
            "Mounted at /content/drive\n"
          ],
          "name": "stdout"
        }
      ]
    },
    {
      "cell_type": "code",
      "metadata": {
        "id": "w7QKYc_ccScF",
        "outputId": "ad5bf508-cf3e-4159-df5c-ca792798fdd9",
        "colab": {
          "base_uri": "https://localhost:8080/",
          "height": 34
        }
      },
      "source": [
        "cd /content/drive/My\\ Drive/CS\\ 4641\\ Group\\ Project/Data"
      ],
      "execution_count": null,
      "outputs": [
        {
          "output_type": "stream",
          "text": [
            "/content/drive/My Drive/CS 4641 Group Project/Data\n"
          ],
          "name": "stdout"
        }
      ]
    },
    {
      "cell_type": "markdown",
      "metadata": {
        "id": "ZIEfWDgVeSOT"
      },
      "source": [
        "## Import data"
      ]
    },
    {
      "cell_type": "code",
      "metadata": {
        "id": "CqBhKjx4k1ix",
        "outputId": "9e07fec3-b8ea-4093-efd9-277b877044a1",
        "colab": {
          "base_uri": "https://localhost:8080/",
          "height": 274
        }
      },
      "source": [
        "import urllib.request\n",
        "import pandas as pd\n",
        "\n",
        "url = 'https://raw.githubusercontent.com/susanli2016/NLP-with-Python/master/data/corona_fake.csv'\n",
        "urllib.request.urlretrieve(url,\"corona_fake.csv\")\n",
        "df = pd.read_csv('corona_fake.csv')\n",
        "\n",
        "df.loc[df['label'] == 'Fake', ['label']] = 'FAKE'\n",
        "df.loc[df['label'] == 'fake', ['label']] = 'FAKE'\n",
        "df.loc[df['source'] == 'facebook', ['source']] = 'Facebook'\n",
        "\n",
        "df.loc[5]['label'] = 'FAKE'\n",
        "df.loc[15]['label'] = 'TRUE'\n",
        "df.loc[43]['label'] = 'FAKE'\n",
        "df.loc[131]['label'] = 'TRUE'\n",
        "df.loc[242]['label'] = 'FAKE'\n",
        "\n",
        "print(df[['label', 'source']])"
      ],
      "execution_count": null,
      "outputs": [
        {
          "output_type": "stream",
          "text": [
            "     label                     source\n",
            "0     FAKE  coronavirusmedicalkit.com\n",
            "1     FAKE               RudyGiuliani\n",
            "2     FAKE                CharlieKirk\n",
            "3     FAKE    JoanneWrightForCongress\n",
            "4     FAKE    JoanneWrightForCongress\n",
            "...    ...                        ...\n",
            "1159  TRUE   https://www.nytimes.com/\n",
            "1160  TRUE   https://www.nytimes.com/\n",
            "1161  TRUE   https://www.nytimes.com/\n",
            "1162  TRUE   https://www.nytimes.com/\n",
            "1163  TRUE   https://www.nytimes.com/\n",
            "\n",
            "[1164 rows x 2 columns]\n"
          ],
          "name": "stdout"
        }
      ]
    },
    {
      "cell_type": "markdown",
      "metadata": {
        "id": "tQq7hnVkljRw"
      },
      "source": [
        "## Sentence Vectorization"
      ]
    },
    {
      "cell_type": "code",
      "metadata": {
        "id": "ioMuS3_Clo6F"
      },
      "source": [
        "pip install glove"
      ],
      "execution_count": null,
      "outputs": []
    },
    {
      "cell_type": "markdown",
      "metadata": {
        "id": "5PHUGun3phTa"
      },
      "source": [
        "#"
      ]
    },
    {
      "cell_type": "markdown",
      "metadata": {
        "id": "N7qVilvUep6Z"
      },
      "source": [
        "### References\n",
        "Dataset : [towardsdatascience.com/automatically-detect-covid-19-misinformation-f7ceca1dc1c7](https://towardsdatascience.com/automatically-detect-covid-19-misinformation-f7ceca1dc1c7)"
      ]
    }
  ]
}