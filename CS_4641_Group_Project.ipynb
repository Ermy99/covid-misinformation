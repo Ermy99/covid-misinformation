{
  "nbformat": 4,
  "nbformat_minor": 0,
  "metadata": {
    "colab": {
      "name": "CS 4641 Group Project",
      "provenance": [],
      "collapsed_sections": [],
      "toc_visible": true,
      "include_colab_link": true
    },
    "kernelspec": {
      "display_name": "Python 3",
      "name": "python3"
    }
  },
  "cells": [
    {
      "cell_type": "markdown",
      "metadata": {
        "id": "view-in-github",
        "colab_type": "text"
      },
      "source": [
        "<a href=\"https://colab.research.google.com/github/Ermy99/covid-misinformation/blob/master/CS_4641_Group_Project.ipynb\" target=\"_parent\"><img src=\"https://colab.research.google.com/assets/colab-badge.svg\" alt=\"Open In Colab\"/></a>"
      ]
    },
    {
      "cell_type": "markdown",
      "metadata": {
        "id": "-tE4Z4WLeFfH"
      },
      "source": [
        "# Recognizing Misinformation\n",
        "This is the group project for CS 4641 Machine Learning\n"
      ]
    },
    {
      "cell_type": "code",
      "metadata": {
        "id": "zsiqd47laEOk",
        "outputId": "35aa5deb-f880-40c7-99e4-f9081f135501",
        "colab": {
          "base_uri": "https://localhost:8080/"
        }
      },
      "source": [
        "# Authenticate Google Drive access\n",
        "from google.colab import drive\n",
        "drive.mount('/content/drive')"
      ],
      "execution_count": null,
      "outputs": [
        {
          "output_type": "stream",
          "text": [
            "Drive already mounted at /content/drive; to attempt to forcibly remount, call drive.mount(\"/content/drive\", force_remount=True).\n"
          ],
          "name": "stdout"
        }
      ]
    },
    {
      "cell_type": "code",
      "metadata": {
        "id": "w7QKYc_ccScF",
        "outputId": "d7634510-43cd-4eef-c83d-bbbca7576c68",
        "colab": {
          "base_uri": "https://localhost:8080/"
        }
      },
      "source": [
        "cd /content/drive/My\\ Drive/CS\\ 4641\\ Group\\ Project/Data"
      ],
      "execution_count": null,
      "outputs": [
        {
          "output_type": "stream",
          "text": [
            "/content/drive/.shortcut-targets-by-id/1vlC4jhknImpmn82qTXqa4s4-yhyn5KUY/CS 4641 Group Project/Data\n"
          ],
          "name": "stdout"
        }
      ]
    },
    {
      "cell_type": "code",
      "metadata": {
        "id": "TJRGQyVz4QhV",
        "outputId": "360dbb5a-3d11-4580-9bf1-01082f0759d6",
        "colab": {
          "base_uri": "https://localhost:8080/"
        }
      },
      "source": [
        "!pip install cmudict\n",
        "!pip install tldextract"
      ],
      "execution_count": null,
      "outputs": [
        {
          "output_type": "stream",
          "text": [
            "Requirement already satisfied: cmudict in /usr/local/lib/python3.6/dist-packages (0.4.5)\n",
            "Requirement already satisfied: tldextract in /usr/local/lib/python3.6/dist-packages (3.0.2)\n",
            "Requirement already satisfied: filelock>=3.0.8 in /usr/local/lib/python3.6/dist-packages (from tldextract) (3.0.12)\n",
            "Requirement already satisfied: requests-file>=1.4 in /usr/local/lib/python3.6/dist-packages (from tldextract) (1.5.1)\n",
            "Requirement already satisfied: requests>=2.1.0 in /usr/local/lib/python3.6/dist-packages (from tldextract) (2.23.0)\n",
            "Requirement already satisfied: idna in /usr/local/lib/python3.6/dist-packages (from tldextract) (2.10)\n",
            "Requirement already satisfied: six in /usr/local/lib/python3.6/dist-packages (from requests-file>=1.4->tldextract) (1.15.0)\n",
            "Requirement already satisfied: urllib3!=1.25.0,!=1.25.1,<1.26,>=1.21.1 in /usr/local/lib/python3.6/dist-packages (from requests>=2.1.0->tldextract) (1.24.3)\n",
            "Requirement already satisfied: chardet<4,>=3.0.2 in /usr/local/lib/python3.6/dist-packages (from requests>=2.1.0->tldextract) (3.0.4)\n",
            "Requirement already satisfied: certifi>=2017.4.17 in /usr/local/lib/python3.6/dist-packages (from requests>=2.1.0->tldextract) (2020.6.20)\n"
          ],
          "name": "stdout"
        }
      ]
    },
    {
      "cell_type": "markdown",
      "metadata": {
        "id": "ZIEfWDgVeSOT"
      },
      "source": [
        "# Import and Clean Data"
      ]
    },
    {
      "cell_type": "code",
      "metadata": {
        "id": "CqBhKjx4k1ix",
        "outputId": "1cb48ce2-1af2-4ebf-ae49-f9dcb9660ace",
        "colab": {
          "base_uri": "https://localhost:8080/"
        }
      },
      "source": [
        "import urllib.request\n",
        "import pandas as pd\n",
        "\n",
        "url = 'https://raw.githubusercontent.com/susanli2016/NLP-with-Python/master/data/corona_fake.csv'\n",
        "urllib.request.urlretrieve(url,\"corona_fake.csv\")\n",
        "df = pd.read_csv('corona_fake.csv')\n",
        "\n",
        "df.loc[df['label'] == 'Fake', ['label']] = 'FAKE'\n",
        "df.loc[df['label'] == 'fake', ['label']] = 'FAKE'\n",
        "df.loc[df['source'] == 'facebook', ['source']] = 'Facebook'\n",
        "\n",
        "df.loc[5]['label'] = 'FAKE'\n",
        "df.loc[15]['label'] = 'TRUE'\n",
        "df.loc[43]['label'] = 'FAKE'\n",
        "df.loc[131]['label'] = 'TRUE'\n",
        "df.loc[242]['label'] = 'FAKE'\n",
        "\n",
        "#change all nan strings to empty string\n",
        "df = df.fillna('')\n",
        "\n",
        "print(df.tail())"
      ],
      "execution_count": null,
      "outputs": [
        {
          "output_type": "stream",
          "text": [
            "                                                  title  ... label\n",
            "1159   Could the Power of the Sun Slow the Coronavirus?  ...  TRUE\n",
            "1160  Key evidence for coronavirus spread is flawed ...  ...  TRUE\n",
            "1161  Summer Heat May Not Diminish Coronavirus Strength  ...  TRUE\n",
            "1162               How Long Will a Vaccine Really Take?  ...  TRUE\n",
            "1163  Why Funding the Covid-19 Response Could Be the...  ...  TRUE\n",
            "\n",
            "[5 rows x 4 columns]\n"
          ],
          "name": "stdout"
        }
      ]
    },
    {
      "cell_type": "code",
      "metadata": {
        "id": "0XWNkf6d-Tot",
        "outputId": "5e896d43-f0f3-41d8-c14a-bd4af3b0841e",
        "colab": {
          "base_uri": "https://localhost:8080/"
        }
      },
      "source": [
        "import tldextract\n",
        "\n",
        "sources = list()\n",
        "true_false = list()\n",
        "all_sources = list()\n",
        "\n",
        "for i in range(len(df.index)):\n",
        "  if str(df.loc[i][\"label\"]).lower() == \"true\":\n",
        "    true_false.append(\"true\")\n",
        "  else:\n",
        "    true_false.append(\"fake\")\n",
        "\n",
        "  source = str(df.loc[i][\"source\"]).lower()\n",
        "  all_sources.append(source)\n",
        "  domain = str(tldextract.extract(source).domain).lower()\n",
        "  suffix = str(tldextract.extract(source).suffix).lower()\n",
        "  if source == \"facebook\" or domain == \"facebook\" or source == \"twitter\" or domain == \"twitter\" or source == \"youtube\" or domain == \"youtube\":\n",
        "    sources.append(\"facebook/twitter/youtube\")\n",
        "  elif source == \"cdc\" or domain == \"cdc\" or source == \"who\" or domain == \"who\":\n",
        "    sources.append(\"medical\")\n",
        "  elif suffix == \"edu\" or source == \"harvard\" or domain == \"harvard\":\n",
        "    sources.append(\"education\")\n",
        "  elif source == \"europa\" or domain == \"europa\" or suffix == \"ca\" or suffix == \"ru\":\n",
        "    sources.append(\"government\")\n",
        "  elif source == \"nytimes\" or domain == \"nytimes\" or source == \"cnn\" or domain == \"cnn\" or source == \"washingtonpost\" or domain == \"washingtonpost\" or source == \"usatoday\" or domain == \"usatoday\" or source == \"reuters\" or domain == \"reuters\" or source == \"archive\" or domain == \"archive\" or source == \"bbc\" or domain == \"bbc\" or source == \"rt\" or domain == \"rt\":\n",
        "    sources.append(\"news\")\n",
        "  else:\n",
        "    sources.append(\"others\")\n",
        "\n",
        "df = df.drop(columns=['source', 'label'])\n",
        "df['source'] = sources \n",
        "df['label'] = true_false \n",
        "\n",
        "print(str(len(true_false)) + \" analyzed\")"
      ],
      "execution_count": null,
      "outputs": [
        {
          "output_type": "stream",
          "text": [
            "1164 analyzed\n"
          ],
          "name": "stdout"
        }
      ]
    },
    {
      "cell_type": "markdown",
      "metadata": {
        "id": "Mtub1622Nr6p"
      },
      "source": [
        "# Feature Engineering"
      ]
    },
    {
      "cell_type": "markdown",
      "metadata": {
        "id": "gFCg700yNgVH"
      },
      "source": [
        "## Tf-idf"
      ]
    },
    {
      "cell_type": "code",
      "metadata": {
        "id": "bJ--O_J8GpGk",
        "outputId": "a39ccb4a-a1c7-4ad7-951b-e3e4272e567f",
        "colab": {
          "base_uri": "https://localhost:8080/"
        }
      },
      "source": [
        "#tf-idf\n",
        "\n",
        "from sklearn.feature_extraction.text import TfidfVectorizer\n",
        "import numpy as np\n",
        "test = df.copy().fillna('')\n",
        "\n",
        "\n",
        "vectorizer = TfidfVectorizer(stop_words='english', min_df=.2)\n",
        "#sparse tfidf\n",
        "tfidf_vectors = vectorizer.fit_transform(test['text'])\n",
        "#column names\n",
        "terms = vectorizer.get_feature_names()\n",
        "tfidf_terms = []\n",
        "for term in terms:\n",
        "  tfidf_terms.append('tfidf_' + term)\n",
        "\n",
        "tfidf_df = pd.DataFrame.sparse.from_spmatrix(tfidf_vectors, columns=tfidf_terms)\n",
        "\n",
        "#tfidf_df.loc[tfidf_df['tfidf_virus']!=0, ['tfidf_virus']]\n",
        "print(test.dtypes)\n",
        "print(tfidf_df.dtypes)\n",
        "\n",
        "#add to dataframe\n",
        "tfidf_big = pd.concat((test,tfidf_df), axis=1)"
      ],
      "execution_count": null,
      "outputs": [
        {
          "output_type": "stream",
          "text": [
            "title     object\n",
            "text      object\n",
            "source    object\n",
            "label     object\n",
            "dtype: object\n",
            "tfidf_19           Sparse[float64, 0]\n",
            "tfidf_according    Sparse[float64, 0]\n",
            "tfidf_based        Sparse[float64, 0]\n",
            "tfidf_called       Sparse[float64, 0]\n",
            "tfidf_care         Sparse[float64, 0]\n",
            "                          ...        \n",
            "tfidf_work         Sparse[float64, 0]\n",
            "tfidf_world        Sparse[float64, 0]\n",
            "tfidf_wuhan        Sparse[float64, 0]\n",
            "tfidf_year         Sparse[float64, 0]\n",
            "tfidf_years        Sparse[float64, 0]\n",
            "Length: 76, dtype: object\n"
          ],
          "name": "stdout"
        }
      ]
    },
    {
      "cell_type": "markdown",
      "metadata": {
        "id": "N7qVilvUep6Z"
      },
      "source": [
        "### References\n",
        "Dataset : [towardsdatascience.com/automatically-detect-covid-19-misinformation-f7ceca1dc1c7](https://towardsdatascience.com/automatically-detect-covid-19-misinformation-f7ceca1dc1c7)"
      ]
    },
    {
      "cell_type": "markdown",
      "metadata": {
        "id": "Wa5eiP4u7NGl"
      },
      "source": [
        "## Stylistic Analysis\n"
      ]
    },
    {
      "cell_type": "code",
      "metadata": {
        "id": "_ob4c6iVNYEZ",
        "outputId": "9ee3fbca-d94b-42bf-9a94-3524a93c30f7",
        "colab": {
          "base_uri": "https://localhost:8080/"
        }
      },
      "source": [
        "import urllib.request\n",
        "import pandas as pd\n",
        "import nltk\n",
        "nltk.download('stopwords')\n",
        "nltk.download('averaged_perceptron_tagger')\n",
        "from nltk.corpus import stopwords\n",
        "from nltk.tag import pos_tag\n",
        "\n",
        "def count_stopwords(text):\n",
        "  #takes in string and returns the number of stopwords in itprint(\"counting stopwords..\")\n",
        "  STOPWORDS = set(stopwords.words('english'))\n",
        "  word_vec = text.split()\n",
        "  count=0\n",
        "  for word in word_vec:\n",
        "    if word in STOPWORDS:\n",
        "      count +=1\n",
        "  count /= (len(text)+1)\n",
        "  return count\n",
        "\n",
        "def count_pn(text): #potential problem: includes random words starting with a capital letter\n",
        "  word_vec = text.split()\n",
        "  tagged_sent = pos_tag(word_vec)\n",
        "  propernouns = [word for word,pos in tagged_sent if ((pos == 'NNP') or (pos == 'NNPS'))]\n",
        "  #print(propernouns)\n",
        "  count_pn = len(propernouns)\n",
        "  count_pn /= (len(text)+1)\n",
        "  return count_pn\n",
        "\n",
        "def count_adj(text):\n",
        "  word_vec = text.split()\n",
        "  tagged_sent = pos_tag(word_vec)\n",
        "  adj = [word for word,pos in tagged_sent if ((pos == 'JJ') or (pos == 'JJR') or (pos == 'JJS'))]\n",
        "  count_adj= len(adj)\n",
        "  count_adj /= (len(text)+1)\n",
        "  return count_adj\n",
        "\n",
        "def count_negation(text): \n",
        "  word_vec = text.split()\n",
        "  negation_words = [\"no\", \"not\", \"none\", \"nobody\", \"nothing\", \"neither\", \"nowhere\", \"never\", \"dont\", \"don't\", \"shouldnt\", \"shouldn't\"]\n",
        "  count=0\n",
        "  for word in word_vec:\n",
        "    if word in negation_words:\n",
        "      count +=1\n",
        "  count /= (len(text)+1)\n",
        "  return count\n",
        "\n",
        "  #capital letter frequency\n",
        "def capital_letter_freq(text):\n",
        "    if not pd.isna(text):\n",
        "        caps = sum(1 for c in text if c.isupper())\n",
        "        length = max(1, len(text))\n",
        "        return caps/length\n",
        "    else:\n",
        "        return 0\n",
        "\n",
        "df['stopwords'] = df.apply(lambda row: count_stopwords(row.text), axis=1)\n",
        "df['propernouns'] = df.apply(lambda row: count_pn(row.text), axis=1)\n",
        "df['adjectives'] = df.apply(lambda row: count_adj(row.text), axis=1)\n",
        "df['negation'] = df.apply(lambda row: count_negation(row.text), axis=1)\n",
        "df['capital_letter_freq'] = df.apply(lambda row: capital_letter_freq(row.text), axis=1)"
      ],
      "execution_count": null,
      "outputs": [
        {
          "output_type": "stream",
          "text": [
            "[nltk_data] Downloading package stopwords to /root/nltk_data...\n",
            "[nltk_data]   Package stopwords is already up-to-date!\n",
            "[nltk_data] Downloading package averaged_perceptron_tagger to\n",
            "[nltk_data]     /root/nltk_data...\n",
            "[nltk_data]   Package averaged_perceptron_tagger is already up-to-\n",
            "[nltk_data]       date!\n"
          ],
          "name": "stdout"
        }
      ]
    },
    {
      "cell_type": "code",
      "metadata": {
        "id": "AHNpio1i8A8t",
        "outputId": "5b25adca-92e2-4f93-8515-47f4e445b511",
        "colab": {
          "base_uri": "https://localhost:8080/"
        }
      },
      "source": [
        "import cmudict\n",
        "import string\n",
        "import re\n",
        "import nltk\n",
        "\n",
        "nltk.download('punkt')\n",
        "\n",
        "def TTR(text):\n",
        "  if len(text) == 0:\n",
        "    return 0\n",
        "  text = re.sub(r'[^\\w]', ' ', text)\n",
        "  text = text.lower()\n",
        "  tokens = nltk.word_tokenize(text)\n",
        "  types = nltk.Counter(tokens)\n",
        "\n",
        "  return (len(types)/len(tokens))\n",
        "\n",
        "def FKG_readability(text):\n",
        "  # 0.39 * (wrd_ct / sent_ct) + 11.8 * (tot_syll / wrd_ct) - 15.59\n",
        "  if len(text) == 0:\n",
        "    return 0\n",
        "  d = cmudict.dict()\n",
        "  tot_syll = 0 \n",
        "  words = text.split()\n",
        "  table = str.maketrans('', '', string.punctuation)\n",
        "  stripped_words = [w.translate(table) for w in words]\n",
        "  for w in stripped_words:\n",
        "    num_syll = max([len([y for y in x if y[-1].isdigit()]) for x in d[w.lower()]], default=None)\n",
        "    num_syll = 1 if num_syll == None else num_syll\n",
        "  # print(\"tot_syll \" + str(tot_syll))\n",
        "\n",
        "  wrd_ct = len(words)\n",
        "  # print(\"wrd_ct \" + str(wrd_ct))\n",
        "\n",
        "  pattern  = re.compile(r'([^\\.!?]*[\\.!?])', re.M)\n",
        "  sent_ct = len(pattern.findall(text))\n",
        "  # print(\"sent_ct \" + str(sent_ct))\n",
        "  if sent_ct == 0:\n",
        "    sent_ct = 1\n",
        "\n",
        "  return (0.39 * (wrd_ct / sent_ct)) + (11.8 * (tot_syll / wrd_ct)) - 15.59\n",
        "   \n",
        "\n",
        "def GFG_readability(text):\n",
        " # 0.4 [(words/sentences) + 100 (words with > 3 syllables /words)]\n",
        "  if len(text) == 0:\n",
        "    return 0\n",
        "  d = cmudict.dict()\n",
        "  words = text.split()\n",
        "  table = str.maketrans('', '', string.punctuation)\n",
        "  stripped_words = [w.translate(table) for w in words]\n",
        "\n",
        "  cplx_ct = 0 \n",
        "  for w in stripped_words:\n",
        "    num_syll = max([len([y for y in x if y[-1].isdigit()]) for x in d[w.lower()]], default=None)\n",
        "    num_syll = 1 if num_syll == None else num_syll\n",
        "    cplx_ct += 1 if num_syll > 3 else 0\n",
        "  # print(\"cplx_ct \" + str(cplx_ct))\n",
        "\n",
        "  wrd_ct = len(words)\n",
        "  # print(\"wrd_ct \" + str(wrd_ct))\n",
        "\n",
        "  pattern  = re.compile(r'([^\\.!?]*[\\.!?])', re.M)\n",
        "  sent_ct = len(pattern.findall(text))\n",
        "  if sent_ct == 0:\n",
        "    sent_ct = 1\n",
        "  # print(\"sent_ct \" + str(sent_ct))\n",
        "\n",
        "  return 0.4 * ((wrd_ct / sent_ct) + (100 * (cplx_ct / wrd_ct)))\n",
        "\n",
        "def word_length(text):\n",
        "  if len(text) == 0:\n",
        "    return 0\n",
        "  words = text.split()\n",
        "  return sum(len(word) for word in words) / len(words)\n",
        "\n",
        "def num_quotes(text):\n",
        "  if len(text) == 0:\n",
        "    return 0\n",
        "  return ((len(text.split('\"')) - 1)/2) / len(text)\n",
        "\n",
        "  "
      ],
      "execution_count": null,
      "outputs": [
        {
          "output_type": "stream",
          "text": [
            "[nltk_data] Downloading package punkt to /root/nltk_data...\n",
            "[nltk_data]   Package punkt is already up-to-date!\n"
          ],
          "name": "stdout"
        }
      ]
    },
    {
      "cell_type": "code",
      "metadata": {
        "id": "W03SE8Fd9WS4"
      },
      "source": [
        "print(\"Running TTR...\")\n",
        "df['TTR'] = df.apply(lambda row: TTR(row.text), axis=1)\n",
        "#print(\"Running FKG...\")\n",
        "#df['FKG_readability'] = df.apply(lambda row: FKG_readability(row.text), axis=1)\n",
        "#print(\"Running GFG...\")\n",
        "#df['GFG_readability'] = df.apply(lambda row: GFG_readability(row.text), axis=1)\n",
        "print(\"Running word_length...\")\n",
        "df['word_length'] = df.apply(lambda row: word_length(row.text), axis=1)\n",
        "print(\"Running num_quotes...\")\n",
        "df['num_quotes'] = df.apply(lambda row: word_length(row.text), axis=1)"
      ],
      "execution_count": null,
      "outputs": []
    },
    {
      "cell_type": "markdown",
      "metadata": {
        "id": "-4QcR6wL8uQ8"
      },
      "source": [
        "## Sentiment Analysis"
      ]
    },
    {
      "cell_type": "code",
      "metadata": {
        "id": "49kGXsj68zFy"
      },
      "source": [
        "from textblob import TextBlob\n",
        "\n",
        "df['polarity'] = df.apply(lambda row: TextBlob(row.title + ' ' + row.text).sentiment.polarity, axis=1)\n",
        "df['subjectivity'] = df.apply(lambda row: TextBlob(row.title + ' ' + row.text).sentiment.subjectivity, axis=1)"
      ],
      "execution_count": null,
      "outputs": []
    },
    {
      "cell_type": "markdown",
      "metadata": {
        "id": "Ia_qgY7arTVw"
      },
      "source": [
        "## Misspelling"
      ]
    },
    {
      "cell_type": "code",
      "metadata": {
        "id": "-Ef09eCerTNf"
      },
      "source": [
        "import nltk\n",
        "import re\n",
        "import sys\n",
        "\n",
        "from nltk.corpus import stopwords\n",
        "from nltk.corpus import words\n",
        "\n",
        "nltk.download('stopwords')\n",
        "nltk.download('words')"
      ],
      "execution_count": null,
      "outputs": []
    },
    {
      "cell_type": "code",
      "metadata": {
        "id": "uyrlkkM6tli9"
      },
      "source": [
        "# Combine sentences into one list, remove trailing spaces, remove symbols and make everything lower case \n",
        "\n",
        "sentences = list()\n",
        "\n",
        "for i in range(len(df.index)):\n",
        "  title = \"\"\n",
        "  text = \"\"\n",
        "  if df.loc[i][\"title\"]:\n",
        "    title = str(df.loc[i][\"title\"])\n",
        "  if df.loc[i][\"text\"]:\n",
        "    text = str(df.loc[i][\"text\"])\n",
        "\n",
        "  title = title.strip()\n",
        "  title = re.sub('[^\\w\\d\\s]', '', title)\n",
        "  title = title.lower()\n",
        "\n",
        "  text = text.strip()\n",
        "  text = re.sub('[^\\w\\d\\s]', '', text)\n",
        "  text = text.lower()\n",
        "\n",
        "  sentences.append((title.split(), text.split()))\n",
        "\n",
        "print(\"number of sentences: \" + str(len(sentences)))"
      ],
      "execution_count": null,
      "outputs": []
    },
    {
      "cell_type": "code",
      "metadata": {
        "id": "1bRmyq54t0CA"
      },
      "source": [
        "# Stop words we need to remove from the paragraph\n",
        "\n",
        "stop_words = stopwords.words('english')\n",
        "stop_words[:] = [re.sub('[^\\w\\d\\s]', '', word) for word in stop_words]\n",
        "stop_words[:] = [word.lower() for word in stop_words]\n",
        "\n",
        "print(\"number of stop words: \" + str(len(stop_words)))\n",
        "print(stop_words)"
      ],
      "execution_count": null,
      "outputs": []
    },
    {
      "cell_type": "code",
      "metadata": {
        "id": "TP6utUzPt2Eb"
      },
      "source": [
        "# Remove stop words\n",
        "\n",
        "count_new = 0\n",
        "count = 0\n",
        "\n",
        "new_sentences = list()\n",
        "\n",
        "for sentence in sentences:\n",
        "  new_title_words = list()\n",
        "  for j in range(len(sentence[0])):\n",
        "    word = sentence[0][j]\n",
        "    if word not in stop_words:\n",
        "      new_title_words.append(word)\n",
        "      count_new += 1\n",
        "    count += 1\n",
        "\n",
        "  new_text_words = list()\n",
        "  for j in range(len(sentence[1])):\n",
        "    word = sentence[1][j]\n",
        "    if word not in stop_words:\n",
        "      new_text_words.append(word)\n",
        "      count_new += 1\n",
        "    count += 1\n",
        "\n",
        "  new_sentences.append([new_title_words, new_text_words])\n",
        "  \n",
        "  sys.stdout.write(\"\\rwords analyzed: \" + str(count))\n",
        "  sys.stdout.flush()\n",
        "\n",
        "sentences = new_sentences\n",
        "print(\"\\ntotal words remaining: \" + str(count_new))"
      ],
      "execution_count": null,
      "outputs": []
    },
    {
      "cell_type": "code",
      "metadata": {
        "id": "Mp2wTbndt4G7"
      },
      "source": [
        "# Count misspelling\n",
        "\n",
        "count_new = 0\n",
        "count = 0\n",
        "title_misspellings_list = list()\n",
        "text_misspellings_list = list()\n",
        "\n",
        "english_words = set(words.words())\n",
        "\n",
        "english_words.add(\"covid19\")\n",
        "english_words.add(\"coronavirus\")\n",
        "english_words.add(\"covid\")\n",
        "\n",
        "lower_set = set()\n",
        "for word in english_words:\n",
        "  lower_set.add(word.lower())\n",
        "english_words = lower_set\n",
        "\n",
        "new_sentences = list()\n",
        "\n",
        "for sentence in sentences:\n",
        "  new_title_words = list()\n",
        "  count_not_misspelling = 0\n",
        "  for j in range(len(sentence[0])):\n",
        "    word = sentence[0][j]\n",
        "    if word in english_words:\n",
        "      new_title_words.append(word)\n",
        "      count_not_misspelling += 1\n",
        "      count_new += 1\n",
        "    count += 1\n",
        "  \n",
        "  if len(sentence[0]) == 0:\n",
        "    title_misspellings_list.append(0.0)\n",
        "  else:\n",
        "    title_misspellings_list.append((len(sentence[0]) - count_not_misspelling) / len(sentence[0]))\n",
        "\n",
        "  new_text_words = list()\n",
        "  count_not_misspelling = 0\n",
        "  for j in range(len(sentence[1])):\n",
        "    word = sentence[1][j]\n",
        "    if word in english_words:\n",
        "      new_text_words.append(word)\n",
        "      count_not_misspelling += 1\n",
        "      count_new += 1\n",
        "    count += 1\n",
        "\n",
        "\n",
        "  if len(sentence[1]) == 0:\n",
        "    text_misspellings_list.append(0.0)\n",
        "  else:\n",
        "    text_misspellings_list.append((len(sentence[1]) - count_not_misspelling) / (len(sentence[1])))\n",
        "\n",
        "  new_sentences.append([new_title_words, new_text_words])\n",
        "  \n",
        "  sys.stdout.write(\"\\rwords analyzed: \" + str(count))\n",
        "  sys.stdout.flush()\n",
        "\n",
        "sentences = new_sentences\n",
        "print(\"\\ntotal words remaining: \" + str(count_new))"
      ],
      "execution_count": null,
      "outputs": []
    },
    {
      "cell_type": "code",
      "metadata": {
        "id": "Fc-k6rL8sEjZ"
      },
      "source": [
        "df['title_misspelling_count'] = title_misspellings_list \n",
        "df['text_misspelling_count'] = text_misspellings_list "
      ],
      "execution_count": null,
      "outputs": []
    },
    {
      "cell_type": "code",
      "metadata": {
        "id": "w1X7OG81oOIz"
      },
      "source": [
        "df"
      ],
      "execution_count": null,
      "outputs": []
    },
    {
      "cell_type": "markdown",
      "metadata": {
        "id": "ccXJ3wS7uSJo"
      },
      "source": [
        "# Export"
      ]
    },
    {
      "cell_type": "code",
      "metadata": {
        "id": "RDkyrITGqG0w"
      },
      "source": [
        "df"
      ],
      "execution_count": null,
      "outputs": []
    },
    {
      "cell_type": "code",
      "metadata": {
        "id": "YUBeY7gEuR40"
      },
      "source": [
        "df.to_pickle(\"dataframe\")\n",
        "\n",
        "a = pd.concat((df,tfidf_df), axis=1)\n",
        "a.to_pickle(\"ogdata_features_tfidf\")\n",
        "tfidf_df.to_pickle(\"just_tfidf\")\n",
        "b = df.drop('title',axis=1)\n",
        "b = b.drop('text', axis=1)\n",
        "b = b.drop('source', axis=1)\n",
        "b = b.drop('label', axis=1)\n",
        "\n",
        "b.to_pickle(\"just_features_no_tfidf\")\n",
        "b = pd.concat((b,tfidf_df), axis=1)\n",
        "b.to_pickle(\"just_features_and_tfidf\")\n",
        "\n",
        "\n",
        "#df.to_pickle(\"with_tfidf\")"
      ],
      "execution_count": null,
      "outputs": []
    },
    {
      "cell_type": "markdown",
      "metadata": {
        "id": "jvuTkuWxHQpD"
      },
      "source": [
        "# Clustering"
      ]
    },
    {
      "cell_type": "markdown",
      "metadata": {
        "id": "kdrji4Nqv3ph"
      },
      "source": [
        "## Normalized"
      ]
    },
    {
      "cell_type": "code",
      "metadata": {
        "id": "mESWw8zLv3xo"
      },
      "source": [
        "import pandas as pd\n",
        "from sklearn import preprocessing\n",
        "\n",
        "temp = df.drop(columns=['title', 'text', 'source', 'label'])\n",
        "x = temp.values\n",
        "min_max_scaler = preprocessing.MinMaxScaler()\n",
        "x_scaled = min_max_scaler.fit_transform(x)\n",
        "normalized = pd.DataFrame(x_scaled)"
      ],
      "execution_count": null,
      "outputs": []
    },
    {
      "cell_type": "code",
      "metadata": {
        "id": "0Uw_lvnukLUk"
      },
      "source": [
        "print(normalized.columns)\n",
        "normalized.to_pickle(\"normalized\")"
      ],
      "execution_count": null,
      "outputs": []
    },
    {
      "cell_type": "code",
      "metadata": {
        "id": "hA5rLHz__nSh"
      },
      "source": [
        "source_loc = df.columns.get_loc(\"source\")\n",
        "label_loc = df.columns.get_loc(\"label\")\n",
        "np_df = df.to_numpy()\n",
        "df_notext = df.drop(columns=['title', 'text', 'source', 'label'])\n",
        "print(\"source \" + str(source_loc))\n",
        "print(\"label \" + str(label_loc))"
      ],
      "execution_count": null,
      "outputs": []
    },
    {
      "cell_type": "markdown",
      "metadata": {
        "id": "7HDtnnsHi4Oq"
      },
      "source": [
        "## PCA"
      ]
    },
    {
      "cell_type": "code",
      "metadata": {
        "id": "QI0JWWski4Zu"
      },
      "source": [
        ""
      ],
      "execution_count": null,
      "outputs": []
    },
    {
      "cell_type": "markdown",
      "metadata": {
        "id": "JB1E1TUoi4pA"
      },
      "source": [
        "## DBScan"
      ]
    },
    {
      "cell_type": "code",
      "metadata": {
        "id": "3BXGQBcz6zUq",
        "outputId": "a706f03b-85cf-4945-fa95-5348ee327789",
        "colab": {
          "base_uri": "https://localhost:8080/",
          "height": 379
        }
      },
      "source": [
        "from sklearn.cluster import DBSCAN\n",
        "from sklearn import metrics\n",
        "from collections import Counter\n",
        "\n",
        "X = df_notext.to_numpy()\n",
        "print(type(X))\n",
        "db = DBSCAN().fit(X)\n",
        "core_samples_mask = np.zeros_like(db.labels_, dtype=bool)\n",
        "core_samples_mask[db.core_sample_indices_] = True\n",
        "labels = db.labels_\n",
        "\n",
        "plt.scatter(X[:, df.columns.get_loc(\"polarity\") - 4], X[:, df.columns.get_loc(\"subjectivity\") - 4], c=labels, s=40, cmap='viridis');\n",
        "plt.title('Estimated number of clusters: %d' % len(set(labels)))\n",
        "plt.show()"
      ],
      "execution_count": 96,
      "outputs": [
        {
          "output_type": "stream",
          "text": [
            "<class 'numpy.ndarray'>\n"
          ],
          "name": "stdout"
        },
        {
          "output_type": "display_data",
          "data": {
            "image/png": "[encoded data removed]",
            "text/plain": [
              "<Figure size 576x396 with 1 Axes>"
            ]
          },
          "metadata": {
            "tags": []
          }
        }
      ]
    },
    {
      "cell_type": "markdown",
      "metadata": {
        "id": "u06Zf5Nci5F1"
      },
      "source": [
        "## GMM"
      ]
    },
    {
      "cell_type": "code",
      "metadata": {
        "id": "ADOk4k7pi5ON",
        "outputId": "21674cc8-2dd9-46ca-a2ae-99eafb2cfddf",
        "colab": {
          "base_uri": "https://localhost:8080/",
          "height": 347
        }
      },
      "source": [
        "from sklearn.mixture import GaussianMixture\n",
        "\n",
        "X = normalized.to_numpy()\n",
        "gmm = GaussianMixture(n_components=2).fit(normalized)\n",
        "labels = gmm.predict(normalized)\n",
        "plt.scatter(X[:, df.columns.get_loc(\"polarity\") - 4], X[:, df.columns.get_loc(\"subjectivity\") - 4], c=labels, s=40, cmap='viridis');\n",
        "plt.show()\n",
        "\n",
        "df[\"gmm\"] = labels"
      ],
      "execution_count": 69,
      "outputs": [
        {
          "output_type": "display_data",
          "data": {
            "image/png": "[encoded data removed]",
            "text/plain": [
              "<Figure size 576x396 with 1 Axes>"
            ]
          },
          "metadata": {
            "tags": []
          }
        }
      ]
    },
    {
      "cell_type": "markdown",
      "metadata": {
        "id": "6cl9XDrVMztC"
      },
      "source": [
        "## K-Means"
      ]
    },
    {
      "cell_type": "code",
      "metadata": {
        "id": "32CAe4ZgIIaO",
        "outputId": "375cad1c-dacc-457c-eb77-4fc0c1f94223",
        "colab": {
          "base_uri": "https://localhost:8080/",
          "height": 347
        }
      },
      "source": [
        "from sklearn.cluster import KMeans\n",
        "\n",
        "X = normalized.to_numpy()\n",
        "kmeans = KMeans(n_clusters=2).fit(X)\n",
        "labels = kmeans.predict(X)\n",
        "plt.scatter(X[:, df.columns.get_loc(\"polarity\") - 4], X[:, df.columns.get_loc(\"subjectivity\") - 4], c=labels, s=40, cmap=\"viridis\");\n",
        "plt.show()\n"
      ],
      "execution_count": 74,
      "outputs": [
        {
          "output_type": "display_data",
          "data": {
            "image/png": "[encoded data removed]",
            "text/plain": [
              "<Figure size 576x396 with 1 Axes>"
            ]
          },
          "metadata": {
            "tags": []
          }
        }
      ]
    },
    {
      "cell_type": "code",
      "metadata": {
        "id": "GqC-tJ3bvl7W",
        "outputId": "bbc40090-fad5-44b6-841b-319606b38766",
        "colab": {
          "base_uri": "https://localhost:8080/",
          "height": 428
        }
      },
      "source": [
        "from sklearn.metrics import f1_score\n",
        "import matplotlib.pyplot as plt\n",
        "\n",
        "\n",
        "actual_labels = df['label'].tolist()\n",
        "\n",
        "for idx in range(len(actual_labels)):\n",
        "  actual_labels[idx] =  0 if actual_labels[idx] == 'FALSE' else 1\n",
        "\n",
        "f_gmm = f1_score(actual_labels, df['gmm'].tolist(), average='weighted')\n",
        "f_kmeans = f1_score(actual_labels, df['kmeans'].tolist(), average='weighted')\n",
        "print(f_gmm)\n",
        "print(f_kmeans)\n",
        "\n",
        "algos = ['GMM', 'K-Means']\n",
        "f_measures = [f_gmm, f_kmeans]\n",
        "plt.bar(algos, f_measures, color ='maroon',  width = 0.2) \n",
        "plt.xlabel(\"Unsupervised Learning Methods\") \n",
        "plt.ylabel(\"F-Measure\") \n",
        "plt.title(\"F-Measures\") \n"
      ],
      "execution_count": 70,
      "outputs": [
        {
          "output_type": "stream",
          "text": [
            "0.8289738430583501\n",
            "0.6558891454965358\n"
          ],
          "name": "stdout"
        },
        {
          "output_type": "execute_result",
          "data": {
            "text/plain": [
              "Text(0.5, 1.0, 'F-Measures')"
            ]
          },
          "metadata": {
            "tags": []
          },
          "execution_count": 70
        },
        {
          "output_type": "display_data",
          "data": {
            "image/png": "[encoded data removed]",
            "text/plain": [
              "<Figure size 576x396 with 1 Axes>"
            ]
          },
          "metadata": {
            "tags": []
          }
        }
      ]
    },
    {
      "cell_type": "markdown",
      "metadata": {
        "id": "3152H1D2BHAm"
      },
      "source": [
        "# Visualizations"
      ]
    },
    {
      "cell_type": "code",
      "metadata": {
        "id": "_XSrC73TBIuG"
      },
      "source": [
        "from sklearn.datasets import make_blobs\n",
        "from yellowbrick.cluster import SilhouetteVisualizer\n",
        "\n",
        "X = df_notext.to_numpy()\n",
        "\n",
        "kmeans = KMeans(n_clusters=2).fit(X)\n",
        "visualizer = SilhouetteVisualizer(kmeans, colors='yellowbrick')\n",
        "\n",
        "visualizer.fit(X)"
      ],
      "execution_count": null,
      "outputs": []
    },
    {
      "cell_type": "code",
      "metadata": {
        "id": "jZupzmJYCZYy"
      },
      "source": [
        "from collections import Counter\n",
        "from bokeh.io import output_file, show, output_notebook\n",
        "from bokeh.models import ColumnDataSource\n",
        "from bokeh.plotting import figure\n",
        "from bokeh.transform import dodge\n",
        "\n",
        "dbscan_counter = Counter(list(df[\"dbscan\"]))\n",
        "kmeans_counter = Counter(list(df[\"dbscan\"]))\n",
        "gmm_counter = Counter(list(df[\"dbscan\"]))\n",
        "\n",
        "max_columns = max([len(dbscan_counter.keys()), len(kmeans_counter.keys()), len(gmm_counter.keys())])\n",
        "print(max_columns)\n",
        "\n",
        "output_notebook()\n",
        "\n",
        "fruits = ['Apples', 'Pears', 'Nectarines', 'Plums', 'Grapes', 'Strawberries']\n",
        "years = ['2015', '2016', '2017']\n",
        "\n",
        "data = {'fruits' : fruits,\n",
        "        '2015'   : [2, 1, 4, 3, 2, 4],\n",
        "        '2016'   : [5, 3, 3, 2, 4, 6],\n",
        "        '2017'   : [3, 2, 4, 4, 5, 3]}\n",
        "\n",
        "source = ColumnDataSource(data=data)\n",
        "\n",
        "p = figure(x_range=fruits, y_range=(0, 10), plot_height=250, title=\"Fruit Counts by Year\",\n",
        "           toolbar_location=None, tools=\"\")\n",
        "\n",
        "p.vbar(x=dodge('fruits', -0.25, range=p.x_range), top='2015', width=0.2, source=source,\n",
        "       color=\"#c9d9d3\", legend_label=\"2015\")\n",
        "\n",
        "p.vbar(x=dodge('fruits',  0.0,  range=p.x_range), top='2016', width=0.2, source=source,\n",
        "       color=\"#718dbf\", legend_label=\"2016\")\n",
        "\n",
        "p.vbar(x=dodge('fruits',  0.25, range=p.x_range), top='2017', width=0.2, source=source,\n",
        "       color=\"#e84d60\", legend_label=\"2017\")\n",
        "\n",
        "p.x_range.range_padding = 0.1\n",
        "p.xgrid.grid_line_color = None\n",
        "p.legend.location = \"top_left\"\n",
        "p.legend.orientation = \"horizontal\"\n",
        "\n",
        "show(p)"
      ],
      "execution_count": null,
      "outputs": []
    },
    {
      "cell_type": "code",
      "metadata": {
        "id": "HBpe3jCTt4Zw"
      },
      "source": [
        "from collections import Counter\n",
        "from bokeh.io import output_notebook, show\n",
        "from bokeh.models import ColumnDataSource, FactorRange\n",
        "from bokeh.plotting import figure\n",
        "\n",
        "output_notebook()\n",
        "\n",
        "factors = [\n",
        "    (\"K-Means\", \"Cluster 0\"), (\"K-Means\", \"Cluster 1\"),\n",
        "    (\"GMM\", \"Cluster 0\"), (\"GMM\", \"Cluster 1\"),\n",
        "    (\"DBScan\", \"Cluster 0\"), (\"DBScan\", \"Cluster 1\"), (\"DBScan\", \"Cluster 2\"), (\"DBScan\", \"Cluster 3\")\n",
        "]\n",
        "\n",
        "dbscan_counter = Counter(list(df[\"dbscan\"]))\n",
        "kmeans_counter = Counter(list(df[\"kmeans\"]))\n",
        "gmm_counter = Counter(list(df[\"gmm\"]))\n",
        "\n",
        "for i in dbscan_counter.keys():\n",
        "  dbscan_counter[i] = dbscan_counter[i] / \n",
        "\n",
        "regions = ['True', 'Fake']\n",
        "\n",
        "source = ColumnDataSource(data=dict(\n",
        "    x=factors,\n",
        "    east=[ 5, 5, 5, 5, 4, 5, 6, 7, 8, 6, 9 ],\n",
        "    west=[ 5, 9, 4, 5, 4, 7, 7, 7, 6, 6, 7 ],\n",
        "))\n",
        "\n",
        "p = figure(x_range=FactorRange(*factors), plot_height=250,\n",
        "           toolbar_location=None, tools=\"\")\n",
        "\n",
        "p.vbar_stack(regions, x='x', width=0.9, alpha=0.5, color=[\"green\", \"red\"], source=source, legend_label=regions)\n",
        "\n",
        "p.x_range.range_padding = 0.1\n",
        "p.xaxis.major_label_orientation = 1\n",
        "p.xgrid.grid_line_color = None\n",
        "p.legend.location = \"top_center\"\n",
        "p.legend.orientation = \"horizontal\"\n",
        "\n",
        "show(p)"
      ],
      "execution_count": null,
      "outputs": []
    }
  ]
}