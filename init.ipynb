{
  "nbformat": 4,
  "nbformat_minor": 0,
  "metadata": {
    "colab": {
      "name": "CS 4641 Group Project",
      "provenance": [],
      "authorship_tag": "ABX9TyMAp94GMn0XoMG47ok4B4Z/",
      "include_colab_link": true
    },
    "kernelspec": {
      "name": "python3",
      "display_name": "Python 3"
    }
  },
  "cells": [
    {
      "cell_type": "markdown",
      "metadata": {
        "id": "view-in-github",
        "colab_type": "text"
      },
      "source": [
        "<a href=\"https://colab.research.google.com/github/Ermy99/covid-misinformation/blob/master/init.ipynb\" target=\"_parent\"><img src=\"https://colab.research.google.com/assets/colab-badge.svg\" alt=\"Open In Colab\"/></a>"
      ]
    },
    {
      "cell_type": "markdown",
      "metadata": {
        "id": "-tE4Z4WLeFfH"
      },
      "source": [
        "# Recognizing Misinformation\n",
        "This is the group project for CS 4641 Machine Learning\n"
      ]
    },
    {
      "cell_type": "code",
      "metadata": {
        "id": "zsiqd47laEOk",
        "outputId": "46b5b4c1-f7ec-428a-8f4d-a9e020208c01",
        "colab": {
          "base_uri": "https://localhost:8080/",
          "height": 34
        }
      },
      "source": [
        "# Authenticate Google Drive access\n",
        "from google.colab import drive\n",
        "drive.mount('/content/drive')"
      ],
      "execution_count": 1,
      "outputs": [
        {
          "output_type": "stream",
          "text": [
            "Mounted at /content/drive\n"
          ],
          "name": "stdout"
        }
      ]
    },
    {
      "cell_type": "code",
      "metadata": {
        "id": "w7QKYc_ccScF",
        "outputId": "f51fdadc-727d-44fa-fc9c-13f7bccba617",
        "colab": {
          "base_uri": "https://localhost:8080/",
          "height": 34
        }
      },
      "source": [
        "cd /content/drive/My\\ Drive/CS\\ 4641\\ Group\\ Project/Data"
      ],
      "execution_count": 3,
      "outputs": [
        {
          "output_type": "stream",
          "text": [
            "/content/drive/My Drive/CS 4641 Group Project/Data\n"
          ],
          "name": "stdout"
        }
      ]
    },
    {
      "cell_type": "markdown",
      "metadata": {
        "id": "ZIEfWDgVeSOT"
      },
      "source": [
        "## Import data"
      ]
    },
    {
      "cell_type": "code",
      "metadata": {
        "id": "Ebu89-sCejrf",
        "outputId": "0c805f8f-6579-46ec-8a0a-fe62537079fd",
        "colab": {
          "base_uri": "https://localhost:8080/",
          "height": 102
        }
      },
      "source": [
        "import nltk\n",
        "import plotly.express as px\n",
        "import plotly.figure_factory as ff\n",
        "import plotly.graph_objects as go\n",
        "import pandas as pd\n",
        "\n",
        "from sklearn.feature_extraction.text import CountVectorizer\n",
        "from textblob import TextBlob\n",
        "from nltk.corpus import stopwords\n",
        "\n",
        "nltk.download(\"stopwords\")\n",
        "STOPWORDS = set(stopwords.words('english'))\n",
        "\n",
        "df = pd.read_csv('corona_fake.csv')\n",
        "df.loc[df['label'] == 'Fake', ['label']] = 'FAKE'\n",
        "df.loc[df['label'] == 'fake', ['label']] = 'FAKE'\n",
        "df.loc[df['source'] == 'facebook', ['source']] = 'Facebook'\n",
        "\n",
        "df.loc[5]['label'] = 'FAKE'\n",
        "df.loc[15]['label'] = 'TRUE'\n",
        "df.loc[43]['label'] = 'FAKE'\n",
        "df.loc[131]['label'] = 'TRUE'\n",
        "df.loc[242]['label'] = 'FAKE'\n",
        "\n",
        "df = df.sample(frac=1).reset_index(drop=True)\n",
        "df.label.value_counts()"
      ],
      "execution_count": 17,
      "outputs": [
        {
          "output_type": "stream",
          "text": [
            "[nltk_data] Downloading package stopwords to /root/nltk_data...\n",
            "[nltk_data]   Package stopwords is already up-to-date!\n"
          ],
          "name": "stdout"
        },
        {
          "output_type": "execute_result",
          "data": {
            "text/plain": [
              "TRUE    586\n",
              "FAKE    578\n",
              "Name: label, dtype: int64"
            ]
          },
          "metadata": {
            "tags": []
          },
          "execution_count": 17
        }
      ]
    },
    {
      "cell_type": "markdown",
      "metadata": {
        "id": "N7qVilvUep6Z"
      },
      "source": [
        "### References\n",
        "Dataset : [towardsdatascience.com/automatically-detect-covid-19-misinformation-f7ceca1dc1c7](https://towardsdatascience.com/automatically-detect-covid-19-misinformation-f7ceca1dc1c7)"
      ]
    }
  ]
}