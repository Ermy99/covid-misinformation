{
  "nbformat": 4,
  "nbformat_minor": 0,
  "metadata": {
    "colab": {
      "name": "CS 4641 Group Project",
      "provenance": [],
      "authorship_tag": "ABX9TyMG70U+GijwRK8ltJp/uTwz",
      "include_colab_link": true
    },
    "kernelspec": {
      "name": "python3",
      "display_name": "Python 3"
    }
  },
  "cells": [
    {
      "cell_type": "markdown",
      "metadata": {
        "id": "view-in-github",
        "colab_type": "text"
      },
      "source": [
        "<a href=\"https://colab.research.google.com/github/Ermy99/covid-misinformation/blob/master/init.ipynb\" target=\"_parent\"><img src=\"https://colab.research.google.com/assets/colab-badge.svg\" alt=\"Open In Colab\"/></a>"
      ]
    },
    {
      "cell_type": "markdown",
      "metadata": {
        "id": "-tE4Z4WLeFfH"
      },
      "source": [
        "# Recognizing Misinformation\n",
        "This is the group project for CS 4641 Machine Learning\n"
      ]
    },
    {
      "cell_type": "code",
      "metadata": {
        "id": "zsiqd47laEOk",
        "outputId": "fd23e42e-12ac-4017-a351-6600e9dee507",
        "colab": {
          "base_uri": "https://localhost:8080/",
          "height": 34
        }
      },
      "source": [
        "# Authenticate Google Drive access\n",
        "from google.colab import drive\n",
        "drive.mount('/content/drive')"
      ],
      "execution_count": 1,
      "outputs": [
        {
          "output_type": "stream",
          "text": [
            "Mounted at /content/drive\n"
          ],
          "name": "stdout"
        }
      ]
    },
    {
      "cell_type": "code",
      "metadata": {
        "id": "w7QKYc_ccScF",
        "outputId": "ad5bf508-cf3e-4159-df5c-ca792798fdd9",
        "colab": {
          "base_uri": "https://localhost:8080/",
          "height": 34
        }
      },
      "source": [
        "cd /content/drive/My\\ Drive/CS\\ 4641\\ Group\\ Project/Data"
      ],
      "execution_count": 2,
      "outputs": [
        {
          "output_type": "stream",
          "text": [
            "/content/drive/My Drive/CS 4641 Group Project/Data\n"
          ],
          "name": "stdout"
        }
      ]
    },
    {
      "cell_type": "markdown",
      "metadata": {
        "id": "ZIEfWDgVeSOT"
      },
      "source": [
        "## Import data"
      ]
    },
    {
      "cell_type": "code",
      "metadata": {
        "id": "CqBhKjx4k1ix",
        "outputId": "e62f0028-f6da-4c8d-805e-318b4b63d938",
        "colab": {
          "base_uri": "https://localhost:8080/",
          "height": 34
        }
      },
      "source": [
        "import urllib.request\n",
        "import pandas as pd\n",
        "\n",
        "url = 'https://raw.githubusercontent.com/susanli2016/NLP-with-Python/master/data/corona_fake.csv'\n",
        "urllib.request.urlretrieve(url,\"corona_fake.csv\")\n",
        "df = pd.read_csv('corona_fake.csv')"
      ],
      "execution_count": 7,
      "outputs": [
        {
          "output_type": "execute_result",
          "data": {
            "text/plain": [
              "('corona_fake.csv', <http.client.HTTPMessage at 0x7f2c79b060b8>)"
            ]
          },
          "metadata": {
            "tags": []
          },
          "execution_count": 7
        }
      ]
    },
    {
      "cell_type": "markdown",
      "metadata": {
        "id": "N7qVilvUep6Z"
      },
      "source": [
        "### References\n",
        "Dataset : [towardsdatascience.com/automatically-detect-covid-19-misinformation-f7ceca1dc1c7](https://towardsdatascience.com/automatically-detect-covid-19-misinformation-f7ceca1dc1c7)"
      ]
    }
  ]
}